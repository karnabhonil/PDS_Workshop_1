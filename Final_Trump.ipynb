{
  "nbformat": 4,
  "nbformat_minor": 0,
  "metadata": {
    "colab": {
      "name": "Final Trump.ipynb",
      "provenance": [],
      "collapsed_sections": [],
      "toc_visible": true,
      "include_colab_link": true
    },
    "kernelspec": {
      "name": "python3",
      "display_name": "Python 3"
    },
    "accelerator": "GPU"
  },
  "cells": [
    {
      "cell_type": "markdown",
      "metadata": {
        "id": "view-in-github",
        "colab_type": "text"
      },
      "source": [
        "<a href=\"https://colab.research.google.com/github/karnabhonil/PDS_Workshop_1/blob/master/Final_Trump.ipynb\" target=\"_parent\"><img src=\"https://colab.research.google.com/assets/colab-badge.svg\" alt=\"Open In Colab\"/></a>"
      ]
    },
    {
      "cell_type": "markdown",
      "metadata": {
        "id": "eSoXHFWRbfSl",
        "colab_type": "text"
      },
      "source": [
        "# Workshop 1: Analysing Trump's Tweets\n",
        "## Author: Nab Kar\n",
        "\n",
        "Questions/objectives:\n",
        "* What are Trump's most popular Tweets?\n",
        "* What are his favorite words to use?\n",
        "* How does President Trump feel about Bernie Sanders?\n",
        "* How might we produce Trump-like Tweets?"
      ]
    },
    {
      "cell_type": "markdown",
      "metadata": {
        "id": "VormKjWtbjSG",
        "colab_type": "text"
      },
      "source": [
        "## Part I: \n",
        "\n",
        "We first get the data into our Google Colab environment from a Github repository.\n",
        "\n",
        "\n",
        "\n",
        "> ---\n",
        "> *More on this*\n",
        ">\n",
        "> Github is a standard tool used by software developers and computer programmers of all types that makes it easy to share, update and keep track of code. It is used accross industry and academia for both personal and team-oriented projects.\n",
        ">\n",
        "> The Github repository for this project (https://github.com/karnabhonil/PDS_Workshop_1) simply contains the data (and some model weights) for this workshop. \n",
        "\n",
        "> ---\n"
      ]
    },
    {
      "cell_type": "code",
      "metadata": {
        "id": "hr3oekY3bZ8Z",
        "colab_type": "code",
        "outputId": "fb09a4e3-f5b9-4907-cbe4-7a0bf78884a9",
        "colab": {
          "base_uri": "https://localhost:8080/",
          "height": 34
        }
      },
      "source": [
        "# This is a code cell--we can execute Python code here.\n",
        "# Note that lines in the coding cells that start with '#' are comments and not interpretted as computer code.\n",
        "# They are great for explaining what your code is doing in plain English!\n",
        "# Also note the line below starts with '!'--these lines are interpretted as shell commands.\n",
        "!git clone https://github.com/karnabhonil/PDS_Workshop_1.git"
      ],
      "execution_count": 99,
      "outputs": [
        {
          "output_type": "stream",
          "text": [
            "fatal: destination path 'PDS_Workshop_1' already exists and is not an empty directory.\n"
          ],
          "name": "stdout"
        }
      ]
    },
    {
      "cell_type": "markdown",
      "metadata": {
        "id": "ySlWUa85bwA9",
        "colab_type": "text"
      },
      "source": [
        "The data is now in our environment. Confirm that it's in its proper place by clicking the folder on the left-hand side of the screen and checking what was exactly copied before continuing (you should be able to find a file called 'trumpstweets.csv' in the 'data' folder).\n",
        "\n",
        "Python allows for users to use *libraries* (groups of related functions) created by the community. In fact, libraries are one of the reasons Python is so widely used! There is a vast body of great libraries that Python programmer rely on regularly."
      ]
    },
    {
      "cell_type": "code",
      "metadata": {
        "id": "Or61YN1Wboip",
        "colab_type": "code",
        "colab": {}
      },
      "source": [
        "# We import several key libraries here:\n",
        "#   'pandas' for handling our data\n",
        "#   'matplotlib.pyplot' for our graphs and figures\n",
        "#   'TextBlob' for analysing our textual data\n",
        "import pandas as pd\n",
        "import matplotlib.pyplot as plt\n",
        "from textblob import TextBlob"
      ],
      "execution_count": 0,
      "outputs": []
    },
    {
      "cell_type": "markdown",
      "metadata": {
        "id": "Ud2IvejybzZE",
        "colab_type": "text"
      },
      "source": [
        "Note that we import each of the libraries *as* something else. This is for clarity and faster development. Now, we can use the shorthand 'plt' to refer to 'matplotlib.pyplot' (which is quite annoying to type out!)."
      ]
    },
    {
      "cell_type": "markdown",
      "metadata": {
        "id": "S1Y5eOEbcEVm",
        "colab_type": "text"
      },
      "source": [
        "We noted that 'pandas' is our go-to library for handling out data. We will use its *read_csv()* function to read in our raw data. Use this function to set a variable 'df' to hold our data. To find the data file, look through the directory on the left-hand side of the screen. Remember that filepath's take the format: 'folder1/folder2/another_folder/my_data.txt'.\n",
        "\n",
        "Recall that we won't be using the full keyword 'pandas' when refering to the library, but rather the shorthand we defined when importing the library.\n",
        "\n",
        "> ---\n",
        "> *More on this*\n",
        ">\n",
        "> Pandas stores data in what it called a 'DataFrame'. You can think of it as a well-organized table or matrix of the data.\n",
        ">\n",
        "> ---\n",
        "\n",
        "One convenient way to see what a variable holds is by simple typing the variable's name as it's own line of code at the end of a code cell. After setting the variable, let's check what the content of 'df' are by doing this."
      ]
    },
    {
      "cell_type": "code",
      "metadata": {
        "id": "uWiQPL-pbyuL",
        "colab_type": "code",
        "colab": {}
      },
      "source": [
        "### YOUR CODE HERE\n"
      ],
      "execution_count": 0,
      "outputs": []
    },
    {
      "cell_type": "markdown",
      "metadata": {
        "id": "FHABksDLcPZk",
        "colab_type": "text"
      },
      "source": [
        "You've successfully loaded the data into Python! What does the data look like? What different information does it contain (and which of these are we primarily interested in)? How many samples does the data contain?\n",
        "\n",
        "Let's do a few basic analyses with the data. First, we'll Trump's most popular Tweets, as guaged by retweets or favorites."
      ]
    },
    {
      "cell_type": "code",
      "metadata": {
        "id": "Ec7Z7xNEj6Fw",
        "colab_type": "code",
        "colab": {}
      },
      "source": [
        "# sort by retweets\n",
        "### YOUR CODE HERE\n",
        "\n",
        "# sort by favorites\n",
        "### YOUR CODE HERE\n"
      ],
      "execution_count": 0,
      "outputs": []
    },
    {
      "cell_type": "markdown",
      "metadata": {
        "id": "9dmk9Ud4jmJ1",
        "colab_type": "text"
      },
      "source": [
        "Let's now look at Trump's most commonly used words and visualize it using a word cloud. We first just extract the contents of the DataFrame since the rest of the information is not too relevant."
      ]
    },
    {
      "cell_type": "code",
      "metadata": {
        "id": "JQyHRwdrcGLu",
        "colab_type": "code",
        "colab": {
          "base_uri": "https://localhost:8080/",
          "height": 221
        },
        "outputId": "213149b9-0fe0-4e61-904b-5123e5a1c591"
      },
      "source": [
        "# extracts the \"content\" column of 'df' and puts it into the variable 'content' \n",
        "### YOUR CODE HERE\n"
      ],
      "execution_count": 76,
      "outputs": [
        {
          "output_type": "execute_result",
          "data": {
            "text/plain": [
              "0        Be sure to tune in and watch Donald Trump on L...\n",
              "1        Donald Trump will be appearing on The View tom...\n",
              "2        Donald Trump reads Top Ten Financial Tips on L...\n",
              "3        New Blog Post: Celebrity Apprentice Finale and...\n",
              "4        \"My persona will never be that of a wallflower...\n",
              "                               ...                        \n",
              "41117    I have never seen the Republican Party as Stro...\n",
              "41118    Now Mini Mike Bloomberg is critical of Jack Wi...\n",
              "41119    I was thrilled to be back in the Great State o...\n",
              "41120    “In the House, the President got less due proc...\n",
              "41121    A great show! Check it out tonight at 9pm. @ F...\n",
              "Name: content, Length: 41122, dtype: object"
            ]
          },
          "metadata": {
            "tags": []
          },
          "execution_count": 76
        }
      ]
    },
    {
      "cell_type": "markdown",
      "metadata": {
        "id": "B93lHUlVnhzK",
        "colab_type": "text"
      },
      "source": [
        "From this corpus of all of Trump's Tweets, we might be interested in visualizing his _most commonly used words_ in the form of a wordcloud. Let's first find his most commonly used words."
      ]
    },
    {
      "cell_type": "code",
      "metadata": {
        "id": "Jx706cYB-pKS",
        "colab_type": "code",
        "colab": {
          "base_uri": "https://localhost:8080/",
          "height": 51
        },
        "outputId": "40e8f789-7914-4580-bf57-5a1617fc0273"
      },
      "source": [
        "import nltk\n",
        "nltk.download('punkt')\n",
        "\n",
        "# count the number of words (where all words are 5 characters or more)\n",
        "word_count = {}\n",
        "for tweet in content:\n",
        "  words = nltk.word_tokenize(tweet)\n",
        "  for word in words:\n",
        "    if len(word) <= 4:\n",
        "      continue\n",
        "    if word in word_count:\n",
        "      word_count[word] += 1\n",
        "    else:\n",
        "      word_count[word] = 1\n"
      ],
      "execution_count": 104,
      "outputs": [
        {
          "output_type": "stream",
          "text": [
            "[nltk_data] Downloading package punkt to /root/nltk_data...\n",
            "[nltk_data]   Package punkt is already up-to-date!\n"
          ],
          "name": "stdout"
        }
      ]
    },
    {
      "cell_type": "code",
      "metadata": {
        "id": "BjATIfLmm3sB",
        "colab_type": "code",
        "colab": {
          "base_uri": "https://localhost:8080/",
          "height": 287
        },
        "outputId": "ecb068da-c989-4d0c-b389-71d95c25c4c3"
      },
      "source": [
        "### produce a word cloud of top words\n",
        "!pip install wordcloud\n",
        "import wordcloud as wc\n",
        "\n",
        "word_count.pop('realDonaldTrump')\n",
        "wordcloud = wc.WordCloud()\n",
        "wordcloud.fit_words(word_count)\n",
        "plt.imshow(wordcloud)"
      ],
      "execution_count": 105,
      "outputs": [
        {
          "output_type": "stream",
          "text": [
            "Requirement already satisfied: wordcloud in /usr/local/lib/python3.6/dist-packages (1.5.0)\n",
            "Requirement already satisfied: numpy>=1.6.1 in /usr/local/lib/python3.6/dist-packages (from wordcloud) (1.17.5)\n",
            "Requirement already satisfied: pillow in /usr/local/lib/python3.6/dist-packages (from wordcloud) (6.2.2)\n"
          ],
          "name": "stdout"
        },
        {
          "output_type": "execute_result",
          "data": {
            "text/plain": [
              "<matplotlib.image.AxesImage at 0x7f096e45bfd0>"
            ]
          },
          "metadata": {
            "tags": []
          },
          "execution_count": 105
        },
        {
          "output_type": "display_data",
          "data": {
            "image/png": "[encoded data removed]",
            "text/plain": [
              "<Figure size 432x288 with 1 Axes>"
            ]
          },
          "metadata": {
            "tags": []
          }
        }
      ]
    },
    {
      "cell_type": "markdown",
      "metadata": {
        "id": "5Y7uDz3fcbI1",
        "colab_type": "text"
      },
      "source": [
        "Let's now apply \\~machine learning\\~ methods to do some *sentiment analysis*. In this case, that's finding out how Trump feels about Bernie.\n",
        "\n",
        "Specifically, in our TextBlob library, there are two ways we are going to understand each Tweet's sentiment: _polarity_ ($\\in [-1,1]$) and _subjectivity_ ($\\in [0,1]$).\n",
        "\n",
        "Part of the code is written for you. We will be *iterating* over each of the Tweets regarding Bernie, and then calling the *.sentiment.polarity* and *.sentiment.subjectivity* methods to get these two relevant quantities (see https://textblob.readthedocs.io/en/dev/api_reference.html#textblob.blob.TextBlob.sentiment for the documentation).\n",
        "\n",
        "Let's store these values in a different column of *bernies*: *sentiment_polarity* and *sentiment_subjectivity*. To create a new column in our DataFrame, read the documentation on the _.loc_ method in:\n",
        "https://pandas.pydata.org/pandas-docs/stable/reference/api/pandas.DataFrame.loc.html\n"
      ]
    },
    {
      "cell_type": "code",
      "metadata": {
        "id": "XlSRPENVzWPU",
        "colab_type": "code",
        "colab": {}
      },
      "source": [
        "# finds all occurances of \"Bernie\" and stores in 'bernies'\n",
        "idx = content.str.find(\"Bernie\") != -1\n"
      ],
      "execution_count": 0,
      "outputs": []
    },
    {
      "cell_type": "code",
      "metadata": {
        "id": "-m4rMs31cbce",
        "colab_type": "code",
        "colab": {}
      },
      "source": [
        "# apply sentiment analysis to Bernie-related Tweets\n",
        "for idx, row in bernies.iterrows():\n",
        "  single_tweet = TextBlob(row.content)\n",
        "  ### YOUR CODE HERE\n",
        "  "
      ],
      "execution_count": 0,
      "outputs": []
    },
    {
      "cell_type": "markdown",
      "metadata": {
        "id": "zM_MO6_7dCqH",
        "colab_type": "text"
      },
      "source": [
        "Now our _bernies_ DataFrame also contains values for Trump's sentiment! Let's compute some basic quantities of interest for these data. Specifically, print out the mean value and standard deviation of the _sentiment_polarity_ column we just created. Additionally, quickly plot a histogram of the values using _plt.hist()_ (note: call _plt.show()_ to show the plot). Repeat this for the _sentiment_subjectivity_ column."
      ]
    },
    {
      "cell_type": "code",
      "metadata": {
        "id": "MqC1RxSfcrRH",
        "colab_type": "code",
        "colab": {}
      },
      "source": [
        "# compute basic statistics and plot\n",
        "### YOUR CODE HERE\n"
      ],
      "execution_count": 0,
      "outputs": []
    },
    {
      "cell_type": "markdown",
      "metadata": {
        "id": "lTBECXgb09bg",
        "colab_type": "text"
      },
      "source": [
        "Which way is the distribution skewed (are there a lot of Tweets to the far left/very negative or the far right/very positive)? What is the average (how does Trump feel, on average, about Bernie)?"
      ]
    },
    {
      "cell_type": "markdown",
      "metadata": {
        "id": "n9D8H97X1CSi",
        "colab_type": "text"
      },
      "source": [
        "## Part II: Generating Trump-like Tweets\n",
        "Now let's have some fun! An exciting part of AI research is figuring out how machines can _generate_ content that seems like it was produced by a human. In this section, we generate Trump-like Tweets using _textgenrnn_, a library for processing (and creating) texts.\n",
        "\n",
        "This part is suppose to be fun, so we've done most of the heavy lifting for you. That is, we're trained a model on Trump's Tweets and now we can call on it to generate things that look like something our president would send out."
      ]
    },
    {
      "cell_type": "code",
      "metadata": {
        "id": "ufoXiRS21EsD",
        "colab_type": "code",
        "colab": {}
      },
      "source": [
        "from textgenrnn import textgenrnn\n",
        "# load the model trained on Trump's Tweets\n",
        "textgen = textgenrnn('./PDS_Workshop_1/weights/textgenrnn_weights.hdf5')"
      ],
      "execution_count": 0,
      "outputs": []
    },
    {
      "cell_type": "markdown",
      "metadata": {
        "id": "yFk8X_u77JlN",
        "colab_type": "text"
      },
      "source": [
        "We can now call the _.generate()_ method to generate Tweets. We all _help()_ to see some of its arguments.\n",
        "\n",
        "Two fun thing's to play with are 'temperature', which controls how _creative_ the model will be, and 'prefix', which allows you to force the model to start the generated text with specified text. Play around with these settings and see what you get!"
      ]
    },
    {
      "cell_type": "code",
      "metadata": {
        "id": "oMaWelGN7ExF",
        "colab_type": "code",
        "colab": {
          "base_uri": "https://localhost:8080/",
          "height": 241
        },
        "outputId": "cc3f2c9f-324e-4344-8f38-aef5345c1af2"
      },
      "source": [
        "help(textgen.generate)\n",
        "### YOUR CODE HERE\n",
        "textgen.generate(4, temperature=0.5)"
      ],
      "execution_count": 114,
      "outputs": [
        {
          "output_type": "stream",
          "text": [
            "Help on method generate in module textgenrnn.textgenrnn:\n",
            "\n",
            "generate(n=1, return_as_list=False, prefix=None, temperature=0.5, max_gen_length=300, interactive=False, top_n=3) method of textgenrnn.textgenrnn.textgenrnn instance\n",
            "\n",
            "The only job @ BarackObama has gone to see the couple on the rate of thinking.\n",
            "\n",
            "The Fed continues to record the world 'spied to spending the Balance Finance no re-end out of the solar country's economy. It missed and but the job has been doing nothing the second lide of his spending...http://bit.ly/Anny America would be any excited the way on @ BarackObama's folloars in Iraq \n",
            "\n",
            "The Fed continues to a great guy, be so popular that I tell me proud of the Iranian work in today's # trumpvlog… http://bit.ly/fqvDT\n",
            "\n",
            "Why is the UN is our oil to every declisd confast.\n",
            "\n"
          ],
          "name": "stdout"
        }
      ]
    },
    {
      "cell_type": "code",
      "metadata": {
        "id": "Cr0pGgKBrFKE",
        "colab_type": "code",
        "colab": {}
      },
      "source": [
        ""
      ],
      "execution_count": 0,
      "outputs": []
    }
  ]
}
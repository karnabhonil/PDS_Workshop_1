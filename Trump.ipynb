{
  "nbformat": 4,
  "nbformat_minor": 0,
  "metadata": {
    "colab": {
      "name": "Trump.ipynb",
      "provenance": [],
      "collapsed_sections": [],
      "authorship_tag": "ABX9TyPFIwvt16mEDbN4q49R9XtK",
      "include_colab_link": true
    },
    "kernelspec": {
      "name": "python3",
      "display_name": "Python 3"
    }
  },
  "cells": [
    {
      "cell_type": "markdown",
      "metadata": {
        "id": "view-in-github",
        "colab_type": "text"
      },
      "source": [
        "<a href=\"https://colab.research.google.com/github/karnabhonil/PDS_Workshop_1/blob/master/Trump.ipynb\" target=\"_parent\"><img src=\"https://colab.research.google.com/assets/colab-badge.svg\" alt=\"Open In Colab\"/></a>"
      ]
    },
    {
      "cell_type": "markdown",
      "metadata": {
        "id": "eSoXHFWRbfSl",
        "colab_type": "text"
      },
      "source": [
        "# Workshop 1: Analysing Trump's Tweets\n",
        "## Author: Nab Kar\n",
        "\n",
        "Questions/objectives:\n",
        "* How does President Trump feel about Bernie Sanders?\n",
        "* How might we produce Trump-like Tweets?"
      ]
    },
    {
      "cell_type": "markdown",
      "metadata": {
        "id": "VormKjWtbjSG",
        "colab_type": "text"
      },
      "source": [
        "## Part I: Trump v. Sanders\n",
        "\n",
        "We first get the data into our Google Colab environment from a Github repository.\n",
        "\n",
        "\n",
        "\n",
        "> ---\n",
        "> *More on this*\n",
        ">\n",
        "> Github is a standard tool used by software developers and computer programmers of all types that makes it easy to share, update and keep track of code. It is used accross industry and academia for both personal and team-oriented projects.\n",
        ">\n",
        "> The Github repository for this project (https://github.com/karnabhonil/PDS_Workshop_1) simply contains the data (and some model weights) for this workshop. \n",
        "\n",
        "> ---\n"
      ]
    },
    {
      "cell_type": "code",
      "metadata": {
        "id": "hr3oekY3bZ8Z",
        "colab_type": "code",
        "colab": {
          "base_uri": "https://localhost:8080/",
          "height": 34
        },
        "outputId": "16c49bf8-0a13-4bf7-d946-1816bd843d09"
      },
      "source": [
        "# This is a code cell--we can execute Python code here.\n",
        "# Note that lines in the coding cells that start with '#' are comments and not interpretted as computer code.\n",
        "# They are great for explaining what your code is doing in plain English!\n",
        "# Also note the line below starts with '!'--these lines are interpretted as shell commands.\n",
        "!git clone https://github.com/karnabhonil/PDS_Workshop_1.git"
      ],
      "execution_count": 5,
      "outputs": [
        {
          "output_type": "stream",
          "text": [
            "fatal: destination path 'PDS_Workshop_1' already exists and is not an empty directory.\n"
          ],
          "name": "stdout"
        }
      ]
    },
    {
      "cell_type": "markdown",
      "metadata": {
        "id": "ySlWUa85bwA9",
        "colab_type": "text"
      },
      "source": [
        "The data is now in our environment. Confirm that it's in its proper place by clicking the folder on the left-hand side of the screen and checking what was exactly copied before continuing (you should be able to find a file called 'trumpstweets.csv' in the 'data' folder).\n",
        "\n",
        "Python allows for users to use *libraries* (groups of related functions) created by the community. In fact, libraries are one of the reasons Python is so widely used! There is a vast body of great libraries that Python programmer rely on regularly."
      ]
    },
    {
      "cell_type": "code",
      "metadata": {
        "id": "Or61YN1Wboip",
        "colab_type": "code",
        "colab": {}
      },
      "source": [
        "# We import several key libraries here:\n",
        "#   'pandas' for handling our data\n",
        "#   'matplotlib.pyplot' for our graphs and figures\n",
        "#   'TextBlob' for analysing our textual data\n",
        "import pandas as pd\n",
        "import matplotlib.pyplot as plt\n",
        "from textblob import TextBlob"
      ],
      "execution_count": 0,
      "outputs": []
    },
    {
      "cell_type": "markdown",
      "metadata": {
        "id": "Ud2IvejybzZE",
        "colab_type": "text"
      },
      "source": [
        "Note that we import each of the libraries *as* something else. This is for clarity and faster development. Now, we can use the shorthand 'plt' to refer to 'matplotlib.pyplot' (which is quite annoying to type out!)."
      ]
    },
    {
      "cell_type": "markdown",
      "metadata": {
        "id": "S1Y5eOEbcEVm",
        "colab_type": "text"
      },
      "source": [
        "We noted that 'pandas' is our go-to library for handling out data. We will use its *read_csv()* function to read in our raw data. Use this function to set a variable 'df' to hold our data. To find the data file, look through the directory on the left-hand side of the screen. Remember that filepath's take the format: 'folder1/folder2/another_folder/my_data.txt'.\n",
        "\n",
        "Recall that we won't be using the full keyword 'pandas' when refering to the library, but rather the shorthand we defined when importing the library.\n",
        "\n",
        "> ---\n",
        "> *More on this*\n",
        ">\n",
        "> Pandas stores data in what it called a 'DataFrame'. You can think of it as a well-organized table or matrix of the data.\n",
        ">\n",
        "> ---\n",
        "\n",
        "One convenient way to see what a variable holds is by simple typing the variable's name as it's own line of code at the end of a code cell. After setting the variable, let's check what the content of 'df' are by doing this."
      ]
    },
    {
      "cell_type": "code",
      "metadata": {
        "id": "uWiQPL-pbyuL",
        "colab_type": "code",
        "colab": {}
      },
      "source": [
        "### YOUR CODE HERE\n",
        "\n",
        "\n"
      ],
      "execution_count": 0,
      "outputs": []
    },
    {
      "cell_type": "markdown",
      "metadata": {
        "id": "FHABksDLcPZk",
        "colab_type": "text"
      },
      "source": [
        "You've successfully loaded the data into Python! What does the data look like? What different information does it contain (and which of these are we primarily interested in)? How many samples does the data contain?\n",
        "\n",
        "Let's now extract our desired information, *contents*. Set a variable to just contain this information by indexing into *df* using square brckets, [ ]. Note that you will have to use quotes, \" \", around the column name when indexing. Put the contents in a variable called *contents*.\n",
        "\n",
        "After you've done this, let's try to see how Trump feels about some democrats, say Bernie Sanders. We can search the contents for occurances of 'Bernie' and only look at those Tweets (we have done this for you in the variable called *bernies*)."
      ]
    },
    {
      "cell_type": "code",
      "metadata": {
        "id": "JQyHRwdrcGLu",
        "colab_type": "code",
        "colab": {}
      },
      "source": [
        "# extracts the \"content\" column of 'df' and puts it into the variable 'content' \n",
        "### YOUR CODE HERE\n",
        "\n",
        "\n"
      ],
      "execution_count": 0,
      "outputs": []
    },
    {
      "cell_type": "code",
      "metadata": {
        "id": "XlSRPENVzWPU",
        "colab_type": "code",
        "colab": {}
      },
      "source": [
        "# finds all occurances of \"Bernie\" and stores in 'bernies'\n",
        "idx = content.str.find(\"Bernie\") != -1\n",
        "bernies = df[idx]\n",
        "bernies"
      ],
      "execution_count": 0,
      "outputs": []
    },
    {
      "cell_type": "markdown",
      "metadata": {
        "id": "5Y7uDz3fcbI1",
        "colab_type": "text"
      },
      "source": [
        "Let's now apply \\~machine learning\\~ methods to do some *sentiment analysis*. In this case, that's finding out how Trump feels about Bernie.\n",
        "\n",
        "Specifically, in our TextBlob library, there are two ways we are going to understand each Tweet's sentiment: _polarity_ ($\\in [-1,1]$) and _subjectivity_ ($\\in [0,1]$).\n",
        "\n",
        "Part of the code is written for you. We will be *iterating* over each of the Tweets regarding Bernie, and then calling the *.sentiment.polarity* and *.sentiment.subjectivity* methods to get these two relevant quantities (see https://textblob.readthedocs.io/en/dev/api_reference.html#textblob.blob.TextBlob.sentiment for the documentation).\n",
        "\n",
        "Let's store these values in a different column of *bernies*: *sentiment_polarity* and *sentiment_subjectivity*. To create a new column in our DataFrame, read the documentation on the _.loc_ method in:\n",
        "https://pandas.pydata.org/pandas-docs/stable/reference/api/pandas.DataFrame.loc.html\n"
      ]
    },
    {
      "cell_type": "code",
      "metadata": {
        "id": "-m4rMs31cbce",
        "colab_type": "code",
        "colab": {}
      },
      "source": [
        "# apply sentiment analysis to Bernie-related Tweets\n",
        "for idx, row in bernies.iterrows():\n",
        "  single_tweet = TextBlob(row.content)\n",
        "  ### YOUR CODE HERE\n",
        "\n",
        "\n"
      ],
      "execution_count": 0,
      "outputs": []
    },
    {
      "cell_type": "markdown",
      "metadata": {
        "id": "zM_MO6_7dCqH",
        "colab_type": "text"
      },
      "source": [
        "Now our _bernies_ DataFrame also contains values for Trump's sentiment! Let's compute some basic quantities of interest for these data. Specifically, print out the mean value and standard deviation of the _sentiment_polarity_ column we just created. Additionally, quickly plot a histogram of the values using _plt.hist()_ (note: call _plt.show()_ to show the plot). Repeat this for the _sentiment_subjectivity_ column."
      ]
    },
    {
      "cell_type": "code",
      "metadata": {
        "id": "MqC1RxSfcrRH",
        "colab_type": "code",
        "colab": {}
      },
      "source": [
        "# compute basic statistics and plot\n",
        "### YOUR CODE HERE\n",
        "\n",
        "\n"
      ],
      "execution_count": 0,
      "outputs": []
    },
    {
      "cell_type": "markdown",
      "metadata": {
        "id": "lTBECXgb09bg",
        "colab_type": "text"
      },
      "source": [
        "Which way is the distribution skewed (are there a lot of Tweets to the far left/very negative or the far right/very positive)? What is the average (how does Trump feel, on average, about Bernie)?"
      ]
    },
    {
      "cell_type": "markdown",
      "metadata": {
        "id": "n9D8H97X1CSi",
        "colab_type": "text"
      },
      "source": [
        "## Part II: Generating Trump-like Tweets\n",
        "Now let's have some fun! An exciting part of AI research is figuring out how machines can _generate_ content that seems like it was produced by a human. In this section, we generate Trump-like Tweets using _textgenrnn_, a library for processing (and creating) texts.\n",
        "\n",
        "This part is suppose to be fun, so we've done most of the heavy lifting for you. That is, we're trained a model on Trump's Tweets and now we can call on it to generate things that look like something our president would send out."
      ]
    },
    {
      "cell_type": "code",
      "metadata": {
        "id": "ufoXiRS21EsD",
        "colab_type": "code",
        "colab": {}
      },
      "source": [
        "from textgenrnn import textgenrnn\n",
        "# load the model trained on Trump's Tweets\n",
        "textgen = textgenrnn('./PDS_Workshop_1/weights/textgenrnn_weights.hdf5')"
      ],
      "execution_count": 0,
      "outputs": []
    },
    {
      "cell_type": "markdown",
      "metadata": {
        "id": "yFk8X_u77JlN",
        "colab_type": "text"
      },
      "source": [
        "We can now call the _.generate()_ method to generate Tweets. We all _help()_ to see some of its arguments.\n",
        "\n",
        "Two fun thing's to play with are 'temperature', which controls how _creative_ the model will be, and 'prefix', which allows you to force the model to start the generated text with specified text. Play around with these settings and see what you get!"
      ]
    },
    {
      "cell_type": "code",
      "metadata": {
        "id": "oMaWelGN7ExF",
        "colab_type": "code",
        "colab": {}
      },
      "source": [
        "help(textgen.generate)"
      ],
      "execution_count": 0,
      "outputs": []
    },
    {
      "cell_type": "code",
      "metadata": {
        "id": "TW-nltHy7MKD",
        "colab_type": "code",
        "colab": {}
      },
      "source": [
        "### YOUR CODE HERE\n"
      ],
      "execution_count": 0,
      "outputs": []
    }
  ]
}
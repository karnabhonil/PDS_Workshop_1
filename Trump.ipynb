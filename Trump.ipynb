{
  "nbformat": 4,
  "nbformat_minor": 0,
  "metadata": {
    "colab": {
      "name": "Trump.ipynb",
      "provenance": [],
      "collapsed_sections": [],
      "authorship_tag": "ABX9TyMQYyQ8wVKPCsts9cuU4/QJ",
      "include_colab_link": true
    },
    "kernelspec": {
      "name": "python3",
      "display_name": "Python 3"
    }
  },
  "cells": [
    {
      "cell_type": "markdown",
      "metadata": {
        "id": "view-in-github",
        "colab_type": "text"
      },
      "source": [
        "<a href=\"https://colab.research.google.com/github/karnabhonil/PDS_Workshop_1/blob/master/Trump.ipynb\" target=\"_parent\"><img src=\"https://colab.research.google.com/assets/colab-badge.svg\" alt=\"Open In Colab\"/></a>"
      ]
    },
    {
      "cell_type": "markdown",
      "metadata": {
        "id": "eSoXHFWRbfSl",
        "colab_type": "text"
      },
      "source": [
        "# Workshop 1: Analysing Trump's Tweets\n",
        "## Author: Nab Kar\n",
        "\n",
        "Questions/objectives:\n",
        "* How does President Trump feel about Bernie Sanders?\n",
        "* How might we produce trump like Tweets?"
      ]
    },
    {
      "cell_type": "markdown",
      "metadata": {
        "id": "VormKjWtbjSG",
        "colab_type": "text"
      },
      "source": [
        "## Part I: Trump v. Sanders\n",
        "\n",
        "We first get the data into our Google Colab environment from a Github repository.\n",
        "\n",
        "\n",
        "\n",
        "> ---\n",
        "> *More on this*\n",
        ">\n",
        "> Github is a standard tool used by software developers and computer programmers of all types that makes it easy to share, update and keep track of code. It is used accross industry and academia for both personal and team-oriented projects.\n",
        ">\n",
        "> The Github repository for this project (https://github.com/karnabhonil/PDS_Workshop_1) simply contains the data (and some model weights) for this workshop. \n",
        "\n",
        "> ---\n"
      ]
    },
    {
      "cell_type": "code",
      "metadata": {
        "id": "hr3oekY3bZ8Z",
        "colab_type": "code",
        "colab": {}
      },
      "source": [
        "# This is a code cell--we can execute Python code here.\n",
        "# Note that lines in the coding cells that start with '#' are comments and not interpretted as computer code.\n",
        "# They are great for explaining what your code is doing in plain English!\n",
        "# Also note the line below starts with '!'--these lines are interpretted as shell commands. ########MAKE THIS A BETTER/MORE ACCURATE COMMENT\n",
        "!git clone https://github.com/karnabhonil/PDS_Workshop_1.git"
      ],
      "execution_count": 0,
      "outputs": []
    },
    {
      "cell_type": "markdown",
      "metadata": {
        "id": "ySlWUa85bwA9",
        "colab_type": "text"
      },
      "source": [
        "The data is now in our environment. Confirm that it's in its proper place by clicking the folder on the left-hand side of the screen and checking what was exactly copied before continuing (you should be able to find a file called 'trumpstweets.csv').\n",
        "\n",
        "Python allows for users to use *libraries* (groups of related functions) created by the community. In fact, libraries are one of the reasons Python is so widely used! There is a vast body of great libraries that Python programmer rely on regularly."
      ]
    },
    {
      "cell_type": "code",
      "metadata": {
        "id": "Or61YN1Wboip",
        "colab_type": "code",
        "colab": {}
      },
      "source": [
        "# We import several key libraries here:\n",
        "#   'pandas' for handling our data\n",
        "#   'matplotlib.pyplot' for our graphs and figures\n",
        "#   'TextBlob' for analysing our textual data\n",
        "import pandas as pd\n",
        "import matplotlib.pyplot as plt\n",
        "from textblob import TextBlob"
      ],
      "execution_count": 0,
      "outputs": []
    },
    {
      "cell_type": "markdown",
      "metadata": {
        "id": "Ud2IvejybzZE",
        "colab_type": "text"
      },
      "source": [
        "Note that we import each of the libraries *as* something else. This is for clarity and faster development. Now, we can use the shorthand 'plt' to refer to 'matplotlib.pyplot' (which is quite annoying to type out!).\n",
        "\n",
        "Example: the function called *show()* in 'matplotlib.pyplot' can be called using 'plt.show()' instead of 'matplotlib.pyplot.show()'."
      ]
    },
    {
      "cell_type": "markdown",
      "metadata": {
        "id": "S1Y5eOEbcEVm",
        "colab_type": "text"
      },
      "source": [
        "We noted that 'pandas' is our go-to library for handling out data. We will use its *read_csv()* function to read in our raw data. Use this function to set a variable 'df' to hold our data.\n",
        "\n",
        "Recall that we won't be using the full keyword 'pandas' when refering to the library, but rather the shorthand we defined when importing the library.\n",
        "\n",
        "> ---\n",
        "> *More on this*\n",
        ">\n",
        "> Pandas stores data in what it called a 'DataFrame'. You can think of it as a well-organized table or matrix of the data.\n",
        ">\n",
        "> ---\n",
        "\n",
        "One convenient way to see what a variable holds is by simple typing the variable's name as it's own line of code at the end of a code cell. After setting the variable, let's check what the content of 'df' are by doing this."
      ]
    },
    {
      "cell_type": "code",
      "metadata": {
        "id": "uWiQPL-pbyuL",
        "colab_type": "code",
        "colab": {}
      },
      "source": [
        "### YOUR CODE HERE\n"
      ],
      "execution_count": 0,
      "outputs": []
    },
    {
      "cell_type": "markdown",
      "metadata": {
        "id": "FHABksDLcPZk",
        "colab_type": "text"
      },
      "source": [
        "You've successfully loaded the data into Python! What does the data look like? What different information does it contain (and which of these are we primarily interested in)? How many samples does the data contain?\n",
        "\n",
        "Let's now extract our desired information, *contents*. Set a variable to just contain this information by indexing into *df* using square brckets, [ ]. Note that you will have to use quotes, \" \", around the column name when indexing. Put the contents in a variable called *contents*.\n",
        "\n",
        "After you've done this, let's try to see how Trump feels about some democrats, say Bernie Sanders. We can search the contents for occurances of 'Bernie' and only look at those Tweets (we have done this for you in the variable called *bernies*)."
      ]
    },
    {
      "cell_type": "code",
      "metadata": {
        "id": "JQyHRwdrcGLu",
        "colab_type": "code",
        "colab": {}
      },
      "source": [
        "# finds occurances of \"Bernie Sanders\" in \"content\"\n",
        "### YOUR CODE HERE\n",
        "content = df[\"content\"]\n",
        "idx = content.str.find(\"Bernie\") != -1\n",
        "bernies = df[idx]"
      ],
      "execution_count": 0,
      "outputs": []
    },
    {
      "cell_type": "markdown",
      "metadata": {
        "id": "5Y7uDz3fcbI1",
        "colab_type": "text"
      },
      "source": [
        "Let's not apply \\~machine learning\\~ methods to do some *sentiment analysis*. In this case, that's finding out how Trump feels about Bernie.\n",
        "\n",
        "Specifically, in our specific library, there are two ways we are going to understand each Tweet's sentiment: _polarity_ ($\\in [-1,1]$) and _subjectivity_ ($\\in [0,1]$).\n",
        "\n",
        "Part of the code is written for you. We will be *iterating* over each of the Tweets regarding Bernie, and then calling the *.sentiment.polarity* and *.sentiment.subjectivity* methods to get these two relevant quantitiues.\n",
        "\n",
        "Let's store these values in a different column of *bernies*: *sentiment_polarity* and *sentiment_subjectivity*. To create a new column in our DataFrame, read the documentation in:\n",
        "https://pandas.pydata.org/pandas-docs/stable/reference/api/pandas.DataFrame.loc.html\n"
      ]
    },
    {
      "cell_type": "code",
      "metadata": {
        "id": "-m4rMs31cbce",
        "colab_type": "code",
        "colab": {}
      },
      "source": [
        "# apply sentiment analysis\n",
        "for idx, row in bernies.iterrows():\n",
        "  single_tweet = TextBlob(row.content)\n",
        "  ### YOUR CODE HERE\n"
      ],
      "execution_count": 0,
      "outputs": []
    },
    {
      "cell_type": "markdown",
      "metadata": {
        "id": "zM_MO6_7dCqH",
        "colab_type": "text"
      },
      "source": [
        "Now our _bernies_ DataFrame also contains values for Trump's sentiment! Let's compute some basic quantities of interest for these data. Specifically, print out the mean value and standard deviation of the _sentiment_polarity_ column we just created. Additionally, quickly plot a histogram of the values using _plt.hist()_ (note: call plt.show() to show the plot). Repeat this for the _sentiment_subjectivity_ column."
      ]
    },
    {
      "cell_type": "code",
      "metadata": {
        "id": "MqC1RxSfcrRH",
        "colab_type": "code",
        "colab": {}
      },
      "source": [
        "# compute basic statistics and plot\n",
        "### YOUR CODE HERE\n",
        "print(\"Polarity: Mean: %f\\nStd: %f\" % (bernies[\"sentiment_polarity\"].mean(), bernies[\"sentiment_polarity\"].std()))\n",
        "plt.hist(bernies[\"sentiment_polarity\"])\n",
        "plt.show()\n",
        "\n",
        "print(\"Subjectivity: Mean: %f\\nStd: %f\" % (bernies[\"sentiment_subjectivity\"].mean(), bernies[\"sentiment_subjectivity\"].std()))\n",
        "plt.hist(bernies[\"sentiment_subjectivity\"])\n",
        "plt.show()"
      ],
      "execution_count": 0,
      "outputs": []
    },
    {
      "cell_type": "code",
      "metadata": {
        "id": "faF80WwBdETI",
        "colab_type": "code",
        "colab": {}
      },
      "source": [
        ""
      ],
      "execution_count": 0,
      "outputs": []
    }
  ]
}